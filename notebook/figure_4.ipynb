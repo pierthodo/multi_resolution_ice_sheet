{
 "cells": [
  {
   "cell_type": "code",
   "execution_count": 4,
   "metadata": {},
   "outputs": [],
   "source": [
    "import pathlib\n",
    "import pandas as pd\n",
    "import xarray as xr\n",
    "import numpy as np\n",
    "import matplotlib.pyplot as plt\n",
    "import matplotlib as mpl\n",
    "import numpy as np\n",
    "import pathlib\n",
    "from pathos.multiprocessing import ProcessingPool as Pool\n",
    "from src.utils import load_data, predict_and_plot_SLC\n",
    "import seaborn as sns\n",
    "from tqdm import tqdm\n",
    "from multiprocessing import Pool\n",
    "sns.set_style('whitegrid')\n",
    "sns.set_palette('colorblind')\n",
    "mpl.rcParams['font.family'] = 'Arial'"
   ]
  },
  {
   "cell_type": "code",
   "execution_count": 5,
   "metadata": {},
   "outputs": [],
   "source": [
    "# Load data\n",
    "data = load_data([0,151])\n",
    "\n",
    "# IMPORTANT: If you want to test the code you can use a small value here and it should run fast\n",
    "# If you want to reproduce the results in the paper use sample_size=3000\n",
    "sample_size = 10\n"
   ]
  },
  {
   "cell_type": "code",
   "execution_count": 6,
   "metadata": {},
   "outputs": [
    {
     "name": "stderr",
     "output_type": "stream",
     "text": [
      "Generating plots: 100%|█████████████████████████████████████████████████████████████████████████| 7/7 [00:05<00:00,  1.23it/s]\n"
     ]
    }
   ],
   "source": [
    "# Process tasks sequentially with progress bar\n",
    "total_tasks = len(range(2, 9))\n",
    "with tqdm(total=7, desc=\"Generating plots\") as pbar:\n",
    "    for resolution in range(2, 9):\n",
    "        result = predict_and_plot_SLC(data, 150, 350, resolution, plot=True, sample_size=sample_size)\n",
    "        plt.savefig(\n",
    "            f\"./../assets/plots/fig_4/res_{resolution}_time_150.pdf\",\n",
    "            bbox_inches=\"tight\",\n",
    "        )\n",
    "        plt.close()  # Close the figure to avoid too many open figures\n",
    "        pbar.update(1)"
   ]
  },
  {
   "cell_type": "code",
   "execution_count": 7,
   "metadata": {},
   "outputs": [
    {
     "name": "stderr",
     "output_type": "stream",
     "text": [
      "Processing tasks (GP fit: True): 100%|██████████████████████████████████████████████████████| 231/231 [00:16<00:00, 13.92it/s]\n"
     ]
    },
    {
     "name": "stdout",
     "output_type": "stream",
     "text": [
      "GP fit: True\n",
      "The root mean squared error averaged across all resolution and melt average is: 1.953486818464643\n"
     ]
    },
    {
     "name": "stderr",
     "output_type": "stream",
     "text": [
      "Processing tasks (GP fit: False): 100%|████████████████████████████████████████████████████| 231/231 [00:01<00:00, 119.95it/s]"
     ]
    },
    {
     "name": "stdout",
     "output_type": "stream",
     "text": [
      "GP fit: False\n",
      "The root mean squared error averaged across all resolution and melt average is: 3.7350990760592593\n"
     ]
    },
    {
     "name": "stderr",
     "output_type": "stream",
     "text": [
      "\n"
     ]
    }
   ],
   "source": [
    "timestamp_list = [100, 125, 150]\n",
    "max_val_list = [150, 200, 300, 400]\n",
    "melt_average = [(1 + i) * 12.5 for i in range(11)]  # Create all the melt average except the first and last\n",
    "\n",
    "\n",
    "def process_task(data, timestamp, max_val_un, resolution, melt, fit_gp, sample_size):\n",
    "    data_label = data[(data[\"melt_average\"] < melt + 0.05) & (data[\"melt_average\"] > melt - 0.05)]\n",
    "    x_m = np.array([melt]).reshape((-1, 1))\n",
    "    result = predict_and_plot_SLC(data, timestamp, max_val_un, resolution, plot=False, sample_size=sample_size, X_m=x_m, fit_gp=fit_gp)\n",
    "\n",
    "    pred = result[1][0][0][0]\n",
    "    tmp = data_label[data_label[\"resolution\"] == resolution]\n",
    "    tmp = tmp[tmp[\"years\"] == timestamp]\n",
    "    label = tmp[\"SLC\"].mean()\n",
    "    return (pred, label)\n",
    "\n",
    "def compute_rmse(results):\n",
    "    return np.sqrt(((results[:, 0] - results[:, 1]) ** 2).mean())\n",
    "\n",
    "for fit_gp in [True, False]:\n",
    "    tasks = [(data, timestamp, max_val, resolution, melt, fit_gp, sample_size)\n",
    "             for melt in melt_average\n",
    "             for timestamp, max_val in zip(timestamp_list, max_val_list)\n",
    "             for resolution in range(2, 9)]\n",
    "\n",
    "    results = []\n",
    "    with tqdm(total=len(tasks), desc=f\"Processing tasks (GP fit: {fit_gp})\") as pbar:\n",
    "        for task in tasks:\n",
    "            result = process_task(*task)\n",
    "            results.append(result)\n",
    "            pbar.update(1)\n",
    "\n",
    "    results = np.array(results)\n",
    "    rmse = compute_rmse(results)\n",
    "    print(\"GP fit:\", fit_gp)\n",
    "    print(\"The root mean squared error averaged across all resolution and melt average is:\", rmse)\n"
   ]
  },
  {
   "cell_type": "code",
   "execution_count": null,
   "metadata": {},
   "outputs": [],
   "source": []
  }
 ],
 "metadata": {
  "kernelspec": {
   "display_name": "Python 3 (ipykernel)",
   "language": "python",
   "name": "python3"
  },
  "language_info": {
   "codemirror_mode": {
    "name": "ipython",
    "version": 3
   },
   "file_extension": ".py",
   "mimetype": "text/x-python",
   "name": "python",
   "nbconvert_exporter": "python",
   "pygments_lexer": "ipython3",
   "version": "3.8.13"
  }
 },
 "nbformat": 4,
 "nbformat_minor": 4
}
