{
 "cells": [
  {
   "cell_type": "code",
   "execution_count": 1,
   "metadata": {},
   "outputs": [],
   "source": [
    "import numpy as np\n",
    "import matplotlib.pyplot as plt\n",
    "import matplotlib as mpl\n",
    "import numpy as np\n",
    "\n",
    "from src.utils import load_data, predict_and_plot_SLC\n",
    "import seaborn as sns\n",
    "\n",
    "sns.set_style(\"whitegrid\")\n",
    "sns.set_palette('colorblind')\n",
    "mpl.rcParams['font.family'] = 'Arial'"
   ]
  },
  {
   "cell_type": "code",
   "execution_count": 2,
   "metadata": {},
   "outputs": [],
   "source": [
    "# Load data\n",
    "data = load_data([0,151])\n",
    "\n",
    "# IMPORTANT: If you want to test the code you can use a small value here and it should run fast\n",
    "# If you want to reproduce the results in the paper use sample_size=3000\n",
    "sample_size = 10"
   ]
  },
  {
   "cell_type": "code",
   "execution_count": null,
   "metadata": {},
   "outputs": [
    {
     "name": "stdout",
     "output_type": "stream",
     "text": [
      "A\n",
      "10\n",
      "A\n",
      "WEEEE\n",
      "(104, 1)\n",
      "(104, 1)\n",
      "WEEEE\n"
     ]
    }
   ],
   "source": [
    "def generate_predictions(data, timestamp, max_val_un, sample_size, mean_prior):\n",
    "    \"\"\"Generate predictions for different resolutions.\"\"\"\n",
    "    print(sample_size)\n",
    "    print(\"A\")\n",
    "    predictions = [predict_and_plot_SLC(data, timestamp, max_val_un, i, plot=False,\n",
    "                                      sample_size=sample_size, mean_prior=mean_prior)\n",
    "                  for i in range(2,9)]\n",
    "    print(\"V\")\n",
    "    data_for_plot = []\n",
    "    for r, prediction in zip(range(2,9), predictions):\n",
    "        mean, var = prediction[1]\n",
    "        data_list = []\n",
    "        for m, v in zip(mean, var):\n",
    "            data_list += list(np.random.normal(m, np.sqrt(v), size=sample_size))\n",
    "\n",
    "        x = []\n",
    "        y = []\n",
    "        for thres in range(0, max_val_un, 5):\n",
    "            x.append(thres)\n",
    "            y.append(len([i for i in data_list if i > thres]) / len(data_list))\n",
    "        data_for_plot.append((r, data_list, x, y))\n",
    "\n",
    "    return data_for_plot\n",
    "\n",
    "def create_plots(timestamp, max_val_un, data_for_plot, mean_label, idx_mean):\n",
    "    \"\"\"Create and save PDF and CDF plots.\"\"\"\n",
    "    plt.figure(figsize=(10,14))\n",
    "\n",
    "    ticksize = 22\n",
    "    label = 32\n",
    "    legend = 20\n",
    "\n",
    "    plt.subplot(2,1,1)\n",
    "    for r, data_list, x, y in data_for_plot:\n",
    "        sns.kdeplot(np.array(data_list), label=str(r) + \" km\", gridsize=400)\n",
    "\n",
    "    plt.subplot(2,1,2)\n",
    "    for r, data_list, x, y in data_for_plot:\n",
    "        plt.plot(x, [1 - i for i in y], label=str(r) + \" km\")\n",
    "\n",
    "    plt.subplot(2,1,1)\n",
    "    plt.xlim(0, max_val_un)\n",
    "    plt.xlabel(\"SLC (mm)\", fontsize=label)\n",
    "    plt.ylabel(\"Density\", fontsize=label)\n",
    "    plt.xticks(fontsize=ticksize)\n",
    "    plt.yticks(fontsize=ticksize)\n",
    "    plt.title(f\"PDF, prior mean \"+r'$M_{t_0}$'+f\"={mean_label} \" + r'$ma^{-1}$', fontsize=label, pad=20)\n",
    "    #if idx_mean >= 2:\n",
    "    plt.legend(fontsize=legend, loc='upper left')\n",
    "\n",
    "    plt.subplot(2,1,2)\n",
    "    plt.xlim(0, max_val_un)\n",
    "    plt.xlabel(\"SLC (mm)\", fontsize=label)\n",
    "    plt.ylabel(\"P(S<S*)\", fontsize=label)\n",
    "    plt.xticks(fontsize=ticksize)\n",
    "    plt.yticks(fontsize=ticksize)\n",
    "    #if idx_mean >= 2:\n",
    "    plt.legend(fontsize=legend, loc='upper left')\n",
    "    plt.title(f\"CDF, prior mean \"+r'$M_{t_0}$'+f\"={mean_label} \" + r'$ma^{-1}$', fontsize=label, pad=20)\n",
    "\n",
    "    plt.tight_layout()\n",
    "    plt.subplots_adjust(hspace=0.4)  # Increase space between subplots\n",
    "    plt.savefig(f\"./../assets/plots/fig_5/cdf_pdf_{timestamp}_mean_{mean_label}.pdf\", bbox_inches='tight')\n",
    "\n",
    "# Figure 4: this can take > 10 minute to run\n",
    "timestamp_list = [100,125,150]\n",
    "max_val_list= [150,200,300,400]\n",
    "all_data = []\n",
    "means = [(2.2,10),(2.872,20),(3.52,40)] #(3.285,30),\n",
    "\n",
    "for idx_mean, (mean_prior, mean_label) in enumerate(means):\n",
    "    # Run the stuff and store the data\n",
    "    for timestamp, max_val_un in zip(timestamp_list, max_val_list):\n",
    "        print(\"A\") \n",
    "        data_for_plot = generate_predictions(data, timestamp, max_val_un, sample_size, mean_prior)\n",
    "        all_data.append((timestamp, max_val_un, data_for_plot))\n",
    "\n",
    "    # Plot in a different loop\n",
    "    for timestamp, max_val_un, data_for_plot in all_data:\n",
    "        create_plots(timestamp, max_val_un, data_for_plot, mean_label, idx_mean)\n"
   ]
  },
  {
   "cell_type": "code",
   "execution_count": null,
   "metadata": {},
   "outputs": [],
   "source": []
  }
 ],
 "metadata": {
  "kernelspec": {
   "display_name": "Python 3 (ipykernel)",
   "language": "python",
   "name": "python3"
  },
  "language_info": {
   "codemirror_mode": {
    "name": "ipython",
    "version": 3
   },
   "file_extension": ".py",
   "mimetype": "text/x-python",
   "name": "python",
   "nbconvert_exporter": "python",
   "pygments_lexer": "ipython3",
   "version": "3.8.13"
  }
 },
 "nbformat": 4,
 "nbformat_minor": 4
}
